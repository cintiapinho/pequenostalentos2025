{
  "nbformat": 4,
  "nbformat_minor": 0,
  "metadata": {
    "colab": {
      "provenance": [],
      "include_colab_link": true
    },
    "kernelspec": {
      "name": "python3",
      "display_name": "Python 3"
    },
    "language_info": {
      "name": "python"
    }
  },
  "cells": [
    {
      "cell_type": "markdown",
      "metadata": {
        "id": "view-in-github",
        "colab_type": "text"
      },
      "source": [
        "<a href=\"https://colab.research.google.com/github/cintiapinho/pequenostalentos2025/blob/main/basicavariaveisoperdoresartmeticos/ListaExeOper.ipynb\" target=\"_parent\"><img src=\"https://colab.research.google.com/assets/colab-badge.svg\" alt=\"Open In Colab\"/></a>"
      ]
    },
    {
      "cell_type": "markdown",
      "source": [
        "\n",
        "\n",
        "1- Peça para o usuário digitar dois números e exiba a soma deles.\n",
        "\n",
        "2- Peça três notas ao usuário e calcule a média delas.\n",
        "\n",
        "3- Solicite a base e a altura de um retângulo e calcule sua área.\n",
        "\n",
        "4- Peça um número ao usuário e mostre seu quadrado.\n",
        "\n",
        "5- Peça um número e exiba o dobro e a metade dele.\n",
        "\n",
        "6- Solicite dois números e calcule o primeiro elevado ao segundo.\n",
        "\n",
        "7- Solicite o valor de um produto e o desconto, depois calcule o valor final do produto com o desconto aplicado.\n",
        "\n",
        "8- Solicite o valor da hora de trabalho, quantidade de horas trabalhada(jornada comum) e a  quantidade de horas extras trabalhadas. Calcule o valor total a ser pago, considerando que o valor das horas extras é o dobro do valor da hora normal.\n",
        "\n",
        "9-Solicite o valor da conta de um restaurante e calcule o valor total a ser pago, incluindo uma gorjeta de 10%.\n",
        "\n",
        "10- Solicite o preço de um produto e calcule o preço com um aumento de 15%.\n",
        "\n"
      ],
      "metadata": {
        "id": "2AG7nP_FafeK"
      }
    }
  ]
}