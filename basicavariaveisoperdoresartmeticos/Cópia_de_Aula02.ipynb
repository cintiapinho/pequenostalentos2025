{
  "nbformat": 4,
  "nbformat_minor": 0,
  "metadata": {
    "colab": {
      "provenance": [],
      "include_colab_link": true
    },
    "kernelspec": {
      "name": "python3",
      "display_name": "Python 3"
    },
    "language_info": {
      "name": "python"
    }
  },
  "cells": [
    {
      "cell_type": "markdown",
      "metadata": {
        "id": "view-in-github",
        "colab_type": "text"
      },
      "source": [
        "<a href=\"https://colab.research.google.com/github/cintiapinho/pequenostalentos2025/blob/main/basicavariaveisoperdoresartmeticos/C%C3%B3pia_de_Aula02.ipynb\" target=\"_parent\"><img src=\"https://colab.research.google.com/assets/colab-badge.svg\" alt=\"Open In Colab\"/></a>"
      ]
    },
    {
      "cell_type": "markdown",
      "source": [
        "Exemplo string"
      ],
      "metadata": {
        "id": "55WAmyUcPQj_"
      }
    },
    {
      "cell_type": "code",
      "execution_count": null,
      "metadata": {
        "id": "A-fpitv_O_0D"
      },
      "outputs": [],
      "source": [
        "nome = \"Alice\"\n",
        "print(\"O nome é:\", nome)"
      ]
    },
    {
      "cell_type": "code",
      "source": [
        "dia =\"15\"\n",
        "print(dia)\n"
      ],
      "metadata": {
        "id": "sW-19Qt5QU8e"
      },
      "execution_count": null,
      "outputs": []
    },
    {
      "cell_type": "markdown",
      "source": [
        "Exemplo inteiro (int)"
      ],
      "metadata": {
        "id": "iRRYlnsGPXK9"
      }
    },
    {
      "cell_type": "code",
      "source": [
        "idade = 14\n",
        "print(\"A idade é:\", idade)"
      ],
      "metadata": {
        "id": "g5ZbFNFgPCW1"
      },
      "execution_count": null,
      "outputs": []
    },
    {
      "cell_type": "markdown",
      "source": [
        "Exemplo Número Decimal (float)"
      ],
      "metadata": {
        "id": "Hr3lJNqFPfgp"
      }
    },
    {
      "cell_type": "code",
      "source": [
        "altura = 1.65\n",
        "print(\"A altura é:\", altura)"
      ],
      "metadata": {
        "id": "c4K-zq0KPOXM"
      },
      "execution_count": null,
      "outputs": []
    },
    {
      "cell_type": "markdown",
      "source": [
        "Exemplo Boleano (bool)\n"
      ],
      "metadata": {
        "id": "soa35PsXPj3h"
      }
    },
    {
      "cell_type": "code",
      "source": [
        "maior_de_idade = False\n",
        "print(\"É maior de idade?\", maior_de_idade)"
      ],
      "metadata": {
        "id": "nIrSMqsAPo4H"
      },
      "execution_count": null,
      "outputs": []
    },
    {
      "cell_type": "markdown",
      "source": [
        "Exemplo de lista ou tupla (list, tuple)\n"
      ],
      "metadata": {
        "id": "Jx6KEfVnPzo5"
      }
    },
    {
      "cell_type": "code",
      "source": [
        "materias = [\"Matemática\", \"Português\", \"Ciências\"]\n",
        "print(\"Minhas matérias favoritas são:\", materias)"
      ],
      "metadata": {
        "colab": {
          "base_uri": "https://localhost:8080/"
        },
        "id": "0ehUbMfXP18E",
        "outputId": "b68ecf00-703f-4bd8-900f-dfdf2ab3e2a1"
      },
      "execution_count": null,
      "outputs": [
        {
          "output_type": "stream",
          "name": "stdout",
          "text": [
            "Minhas matérias favoritas são: ['Matemática', 'Português', 'Ciências']\n"
          ]
        }
      ]
    },
    {
      "cell_type": "markdown",
      "source": [
        "Dicionário (dict)\n"
      ],
      "metadata": {
        "id": "xxTd_F4pQDGI"
      }
    },
    {
      "cell_type": "code",
      "source": [
        "aluno = {\"nome\": \"Lucas\", \"idade\": 15, \"nota\": 9.5}\n",
        "print(\"Dados do aluno:\", aluno)"
      ],
      "metadata": {
        "colab": {
          "base_uri": "https://localhost:8080/"
        },
        "id": "V8pX7Ge5Q3h-",
        "outputId": "a30de1d8-8b2a-4c73-8f3a-9ee5b6b3e664"
      },
      "execution_count": null,
      "outputs": [
        {
          "output_type": "stream",
          "name": "stdout",
          "text": [
            "Dados do aluno: {'nome': 'Lucas', 'idade': 15, 'nota': 9.5}\n"
          ]
        }
      ]
    }
  ]
}